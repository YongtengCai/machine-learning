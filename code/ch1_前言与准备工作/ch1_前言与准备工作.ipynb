{
 "cells": [
  {
   "cell_type": "markdown",
   "metadata": {},
   "source": [
    "# 机器学习与社会科学应用"
   ]
  },
  {
   "cell_type": "markdown",
   "metadata": {},
   "source": [
    "## 作者简介"
   ]
  },
  {
   "cell_type": "markdown",
   "metadata": {},
   "source": [
    "<font face=\"宋体\" >郭峰，复旦大学经济学博士，北京大学金融学博士后，现为上海财经大学公共经济与管理学院投资系教授、博士生导师、系主任，教育部青年长江学者，上海财经大学数实融合与智能治理实验室执行主任，上海财经大学富国ESG研究院副院长，上海财经大学滴水湖高级金融学院双聘教授，北京大学数字金融研究中心特约高级研究员。研究领域包括数字经济与数字金融、机器学习与大数据分析，以及公共经济学等范畴。在《经济研究》（2篇）、《管理世界》（3篇）、《经济学季刊》（6篇）、《管理科学学报》，Research Policy，Journal of Economic Behavior & Organization，China Economic Review 等中英文期刊上发表论文50余篇，其中11篇论文引用率破百，2篇论文引用率破千（《经济学季刊》创刊以来引用率最高3篇论文中的2篇）。另在主流媒体发表经济时评90余篇，出版专著3部，合（参）著多部。主持国家社科基金青年项目、上海市哲学社会科学规划项目、博士后科学基金面上项目等课题10余项。    \n",
    "个人主页：http://www.guof1984.net/   </font>  "
   ]
  },
  {
   "cell_type": "markdown",
   "metadata": {},
   "source": [
    "## “数实融合与智能治理实验室”简介"
   ]
  },
  {
   "cell_type": "markdown",
   "metadata": {},
   "source": [
    "<font face=\"宋体\" >“数实融合与智能治理实验室”是上海财经大学公共经济与管理学院郭峰教授牵头组建的教学科研平台，旨在于利用人工智能、大数据等新工具赋能传统财经学科，以数字经济学与传统财经学科的交叉创新，促进数字经济与实体经济深度融合，助力数字中国高质量发展。实验室历来注重教学与科研的融合，始终秉持着在教学中发掘人才、在科研中培养人才的学术创业初心。实验室相关学术成果发表于《经济研究》《管理世界》《管理科学学报》《经济学季刊》等中文顶级期刊和Research policy，JEBO和CER等英文期刊，实验室开发的Python在线课程已在“智慧树”平台面向全网开放。同时，实验室还通过学术报告、公众号推文等，服务数字经济学术共同体，截止到2024年5月实验室已经举办100多场数字经济、机器学习等相关主题的Workshop，并在公众号上发布80余篇文献或技术推文，公众号关注人数超过10000人。实验室未来将继续聚焦数字经济前沿领域，积极通过科学研究、人才培养、数据库建设、学术交流等活动，致力于建设成为引领学科发展、服务国家战略的重要平台。 </font>  "
   ]
  },
  {
   "cell_type": "markdown",
   "metadata": {},
   "source": [
    "## 实验室公众号"
   ]
  },
  {
   "cell_type": "code",
   "execution_count": null,
   "metadata": {},
   "outputs": [],
   "source": [
    "#机器学习与数字经济实验室（guofeng0406）\n",
    "from IPython.display import Image\n",
    "path='D:/python/机器学习与社会科学应用/演示数据/00课前准备工作/'\n",
    "Image(filename = path+'公众号二维码.jpg', width=500, height=260)"
   ]
  },
  {
   "cell_type": "markdown",
   "metadata": {},
   "source": [
    "## 课程简介"
   ]
  },
  {
   "cell_type": "markdown",
   "metadata": {},
   "source": [
    "<font face=\"宋体\" >大数据（Big Data）已经成为经济金融活动的重要基础和各学科关注的重点。本课程的目的是讲述机器学习的基本原理及其在经济学大数据分析中的应用，使学生能够了解机器学习的基本理念，掌握有监督学习、无监督学习和自然语言处理代表性算法的基本原理，并能通过Python语言实现这些算法，并通过研读使用机器学习进行实证分析的经济学学术论文，可以将本课程学习到的机器学习原理和算法应用到经济学实证分析当中。</font>  "
   ]
  },
  {
   "cell_type": "markdown",
   "metadata": {},
   "source": [
    "## 面向对象"
   ]
  },
  {
   "cell_type": "markdown",
   "metadata": {},
   "source": [
    "<font face=\"宋体\" >博士研究生及硕士研究生</font> "
   ]
  },
  {
   "cell_type": "markdown",
   "metadata": {},
   "source": [
    "## 先修课程"
   ]
  },
  {
   "cell_type": "markdown",
   "metadata": {},
   "source": [
    "<font face=\"宋体\" >数学分析；概率统计；中级计量经济学；Python语言基础 </font> "
   ]
  },
  {
   "cell_type": "markdown",
   "metadata": {},
   "source": [
    "## Python网课资源"
   ]
  },
  {
   "cell_type": "markdown",
   "metadata": {},
   "source": [
    "<font face=\"宋体\" >实验室开发的Python课程已在智慧树上面向全网开放    \n",
    "课程名称：《Python语言与经济大数据分析》    \n",
    "授课老师：郭峰    \n",
    "课程平台：智慧树    \n",
    "课程网址：https://coursehome.zhihuishu.com/courseHome/1000002241</font>  "
   ]
  },
  {
   "cell_type": "markdown",
   "metadata": {},
   "source": [
    "## 章节目录"
   ]
  },
  {
   "cell_type": "markdown",
   "metadata": {},
   "source": [
    "<font face=\"微软雅黑\" size=4>第一章 机器学习原理及其启示  </font>  \n",
    "    <font face=\"宋体\" >第一节 为什么需要学习机器学习  \n",
    "    第二节 机器学习的基本任务  \n",
    "    第三节 机器学习基本原理  \n",
    "    第四节 机器学习的应用与启示   </font>  \n",
    "<font face=\"微软雅黑\" size=4>第二章 经典回归算法  </font>  \n",
    "     <font face=\"宋体\" >第一节  OLS回归算法  \n",
    "    第二节  岭回归算法  \n",
    "    第三节  Lasso回归算法  \n",
    "    第四节  算法调参  </font>  \n",
    "<font face=\"微软雅黑\" size=4>第三章 经典分类算法  </font>  \n",
    "     <font face=\"宋体\" >第一节 分类算法简介  \n",
    "    第二节  K近邻算法  \n",
    "    第三节 朴素贝叶斯算法  \n",
    "    第四节 决策树算法  \n",
    "    第五节 支持向量机算法    \n",
    "    第六节 分类算法评估</font>  \n",
    "<font face=\"微软雅黑\" size=4>第四章 自然语言处理入门  </font>  \n",
    "     <font face=\"宋体\" >第一节 自然语言处理的基本任务  \n",
    "    第二节 分词  \n",
    "    第三节 TF-IDF  \n",
    "    第四节 文本相似度    </font>  \n",
    "<font face=\"微软雅黑\" size=4>第五章 集成算法 </font>    \n",
    "     <font face=\"宋体\" >第一节 集成算法基本原理  \n",
    "    第二节  随机森林算法  \n",
    "    第三节  梯度提升树算法    \n",
    "    第四节  XGBoost算法</font>  \n",
    "<font face=\"微软雅黑\" size=4>第六章 无监督学习算法 </font>    \n",
    "     <font face=\"宋体\" >第一节 无监督学习简介  \n",
    "    第二节  聚类算法   \n",
    "    第三节  降维算法    \n",
    "    第四节 LDA主题模型  </font>  \n",
    "<font face=\"微软雅黑\" size=4>第七章 深度学习  </font>  \n",
    "     <font face=\"宋体\" >第一节 神经网络基本原理与前馈神经网络  \n",
    "    第二节  卷积神经网络   \n",
    "    第三节  循环神经网络   \n",
    "    第四节  Word2vec词嵌入算法    \n",
    "    第五节  大语言模型简介</font>  \n",
    " <font face=\"微软雅黑\" size=4>第八章 特征工程入门与实践  </font>  \n",
    "     <font face=\"宋体\" >第一节 特征工程介绍   \n",
    "    第二节  特征理解：探索性分析   \n",
    "    第三节  特征增强：清洗数据   \n",
    "    第四节  特征构造：生成新数据  \n",
    "    第五节  特征选择：筛选属性  \n",
    "    第六节  特征转换：数据降维  </font>  \n",
    " <font face=\"微软雅黑\" size=4>第九章 机器学习与因果识别</font>   \n",
    "     <font face=\"宋体\" >第一节 机器学习助力因果识别的基本逻辑    \n",
    "    第二节 更好是被和控制混淆因素   \n",
    "    第三节 更好地构建对照组    \n",
    "    第四节 更好地识别异质性因果效应   \n",
    "    第五节 更好地检验因果关系的外部有效性    \n",
    "    第六节 大数据和机器学习对因果识别的冲击   \n",
    "    第七节 未来展望    </font>   \n",
    " <font face=\"微软雅黑\" size=4>第十章 机器学习与异质性因果政策效应分析</font>   \n",
    "     <font face=\"宋体\" >第一节 异质性政策效应评估的价值与传统方法    \n",
    "    第二节 传统异质性政策效应评方法的问题   \n",
    "    第三节 机器学习在异质性政策效应评估中应用   \n",
    "    第四节 机器学习的局限以及未来方向   </font> "
   ]
  },
  {
   "cell_type": "markdown",
   "metadata": {},
   "source": [
    "## 软件安装与课前准备"
   ]
  },
  {
   "cell_type": "markdown",
   "metadata": {},
   "source": [
    "修改jupyter-notebook默认工作路径的方法\n",
    "\n",
    "1、开始菜单找到Anaconda3文件夹，在Anaconda3文件夹下找到jupyter-notebook，右键-更多-打开文件位置\n",
    "\n",
    "2、在打开的文件夹中找到Jupyter-notebook快捷方式，右键-属性，打开后可以看到目标位置有一串路径(不同的人根目录可能不同）\n",
    "I:\\Anaconda\\python.exe I:\\Anaconda\\cwp.py I:\\Anaconda I:\\Anaconda\\python.exe I:\\Anaconda\\Scripts\\jupyter-notebook-script.py \"F:\\\"\n",
    "\n",
    "3、以我电脑为例，我将Anaconda安装到了I盘下面的Anaconda目录下\n",
    "因此，前五部分按照这样写即可I:\\Anaconda\\python.exe I:\\Anaconda\\cwp.py I:\\Anaconda I:\\Anaconda\\python.exe I:\\Anaconda\\Scripts\\jupyter-notebook-script.py\n",
    "如果你安装到了D盘或者E盘，记得修改盘符为D或者E\n",
    "\n",
    "4、将最后一部分\"F:\\\"修改成你需要默认打开的文件夹\n",
    "\n",
    "5、最后的格式如下\n",
    "I:\\Anaconda\\python.exe I:\\Anaconda\\cwp.py I:\\Anaconda I:\\Anaconda\\python.exe I:\\Anaconda\\Scripts\\jupyter-notebook-script.py \"F:\\\"\n",
    "\n",
    "6、大功告成，现在你点击开始菜单中的jupyter-notebook可以快速打开进行工作了"
   ]
  },
  {
   "cell_type": "markdown",
   "metadata": {},
   "source": [
    "## 讲义与演示数据"
   ]
  },
  {
   "cell_type": "markdown",
   "metadata": {},
   "source": [
    "<font face=\"宋体\" >code要放入上图“notebook”文件夹。双击上述图片中的“Jupyter Notebook”，找到相应code，就可以操作。</font>"
   ]
  },
  {
   "cell_type": "markdown",
   "metadata": {},
   "source": [
    "<font face=\"宋体\" >“演示数据”文件夹当中提供了大量来自本人实际工作当中使用的数据，以及网络上找到的资历，供课题演示及学生实际操练使用，将其中的材料放入一个如下目录的文件夹当中：“D:\\python\\机器学习与社会科学应用\\演示数据\\”</font>"
   ]
  },
  {
   "cell_type": "markdown",
   "metadata": {},
   "source": [
    "<font face=\"宋体\" >当然，上述文件夹目录并不是强制的，可以逐一修改为自己喜欢和惯用的路径，只不过本课程所有code都是以此路径为数据打开或保存的路径，逐一修改会比较麻烦</font>"
   ]
  },
  {
   "cell_type": "markdown",
   "metadata": {},
   "source": [
    "## Tips:如果程序和数据位于同一文件夹下，可以采用相对路径形式打开\n"
   ]
  },
  {
   "cell_type": "markdown",
   "metadata": {},
   "source": [
    "<font face=\"宋体\" >如readme.txt文件和程序运行目录处于同一文件夹下，可以调用read_csv(\"./read_me.txt\")来打开文件</font>"
   ]
  }
 ],
 "metadata": {
  "kernelspec": {
   "display_name": "Python 3 (ipykernel)",
   "language": "python",
   "name": "python3"
  },
  "language_info": {
   "codemirror_mode": {
    "name": "ipython",
    "version": 3
   },
   "file_extension": ".py",
   "mimetype": "text/x-python",
   "name": "python",
   "nbconvert_exporter": "python",
   "pygments_lexer": "ipython3",
   "version": "3.9.12"
  }
 },
 "nbformat": 4,
 "nbformat_minor": 4
}
