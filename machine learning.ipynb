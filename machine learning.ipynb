{
 "cells": [
  {
   "cell_type": "markdown",
   "metadata": {},
   "source": [
    "# 机器学习笔记"
   ]
  },
  {
   "cell_type": "markdown",
   "metadata": {},
   "source": [
    "## 一、基本原理"
   ]
  },
  {
   "cell_type": "markdown",
   "metadata": {},
   "source": [
    "### 1.预测结果判断  \n",
    "过拟合：部分噪音过分影响了模型  \n",
    "欠拟合：机器学习模型选择有问题"
   ]
  },
  {
   "cell_type": "markdown",
   "metadata": {},
   "source": [
    "### 2.偏差与方差\n",
    "Bias=E $\\widehat{f(x)}$-$\\ f(x)$  \n",
    "偏差衡量的是预测值与真实值的平均偏离程度：   \n",
    "Var=E[$\\widehat{f(x)}$-E $\\widehat{f(x)}$]<sup>2</sup>  \n",
    "方差衡量模型的稳定性  \n",
    "**过拟合**：低偏差、高方差  \n",
    "**欠拟合**：高偏差、低方差  \n",
    "存在最优模型复杂程度（用**均方误差**度量）\n"
   ]
  },
  {
   "cell_type": "markdown",
   "metadata": {},
   "source": [
    "### 3.正则化  \n",
    "OLS对训练数据进行过度拟合，可对其回归参数进行惩罚，思路即为**正则化**(Regularization)  \n",
    "**Ridge回归**：$\\Sigma$(y<sub>i</sub>-X<sub>i</sub><sup>T</sup>$\\beta$)<sup>2</sup>+$\\lambda\\Sigma\\beta$<sub>i</sub><sup>2</sup>  \n",
    "**Lasso回归**：$\\Sigma$(y<sub>i</sub>-X<sub>i</sub><sup>T</sup>$\\beta$)<sup>2</sup>+$\\lambda\\Sigma$|$\\beta$<sub>i</sub>|  \n",
    "梯度下降求损失最小  \n",
    "牺牲无偏性，提高泛化能力"
   ]
  },
  {
   "cell_type": "markdown",
   "metadata": {},
   "source": [
    "### 4.集成算法\n",
    "原始数据集通过随机采样，形成多个训练样本，分别进行分类训练，各弱分类器通过投票得出结果"
   ]
  },
  {
   "cell_type": "markdown",
   "metadata": {},
   "source": [
    "### 5.深度学习\n",
    "通过多层嵌套，叠加非线性映射"
   ]
  },
  {
   "cell_type": "markdown",
   "metadata": {},
   "source": [
    "## 二、决策树模型\n",
    "**决策树**是一种非参数的有监督学习方法，能够从有特征和标签的数据中总结出决策规律，并用树状图的结构来呈现，可以解决**分类**与**回归**问题。本质是一种图结构，需要一系列问题就可以对数据进行分类。"
   ]
  },
  {
   "cell_type": "markdown",
   "metadata": {},
   "source": [
    "### 1.节点\n",
    "根节点：没有进边，只有出边。包含最初的、针对特征的提问。  \n",
    "中间节点：有进边（一条），有出边（若干）。  \n",
    "叶节点：只有进边，没有出边。每个叶节点都是一个类别标签（分类结果）。  \n",
    "子节点和父节点：在相连的两个节点中，更接近根的为父，更接近叶的为子。"
   ]
  },
  {
   "cell_type": "markdown",
   "metadata": {},
   "source": [
    "### 2.核心问题\n",
    "#### 如何找出最佳的节点和分枝？\n",
    "**信息熵(Entropy)** 用于度量样本集合纯度。  \n",
    "假定样本集合D中\n"
   ]
  }
 ],
 "metadata": {
  "language_info": {
   "name": "python"
  }
 },
 "nbformat": 4,
 "nbformat_minor": 2
}
